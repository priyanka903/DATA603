{
 "cells": [
  {
   "cell_type": "markdown",
   "id": "67b56361",
   "metadata": {},
   "source": [
    "## Write Python code and use MapReduct to count occurrences of each word in the first text file (file.txt). How many times each word is repeated?"
   ]
  },
  {
   "cell_type": "code",
   "execution_count": 1,
   "id": "e8877a59",
   "metadata": {},
   "outputs": [],
   "source": [
    "#My DOB 04-30-1999\n",
    "def map_words(text):\n",
    "    # Split text into individual words and remove punctuation\n",
    "    pattern = re.compile(r'\\w+')\n",
    "    words = pattern.findall(text.lower())\n",
    "    words = [word.strip(string.punctuation) for word in words]\n",
    "    return words\n"
   ]
  },
  {
   "cell_type": "code",
   "execution_count": 2,
   "id": "baa3fd52",
   "metadata": {
    "scrolled": true
   },
   "outputs": [],
   "source": [
    "def reduce_words(reduced_count, words):\n",
    "    for word in words:\n",
    "        if word in reduced_count:\n",
    "            reduced_count[word] += 1\n",
    "        else:\n",
    "            reduced_count[word] = 1\n",
    "    return reduced_count\n"
   ]
  },
  {
   "cell_type": "code",
   "execution_count": 3,
   "id": "12d94643",
   "metadata": {},
   "outputs": [
    {
     "name": "stdout",
     "output_type": "stream",
     "text": [
      "{'there': 10, 'had': 54, 'been': 19, 'a': 49, 'snake': 1, 'on': 13, 'hearth': 1, 'rug': 1, 'small': 2, 'man': 3, 'called': 1, 'peter': 1, 'nicknamed': 1, 'wormtail': 2, 'and': 62, 'cold': 1, 'high': 2, 'voice': 3, 'the': 88, 'of': 38, 'lord': 1, 'voldemort': 18, 'harry': 56, 'felt': 3, 'as': 18, 'though': 5, 'an': 7, 'ice': 1, 'cube': 1, 'slipped': 1, 'down': 3, 'into': 2, 'his': 53, 'stomach': 1, 'at': 16, 'very': 3, 'thought': 2, 'he': 42, 'closed': 2, 'eyes': 2, 'tightly': 1, 'tried': 3, 'to': 51, 'remember': 2, 'what': 5, 'looked': 3, 'like': 6, 'but': 13, 'it': 24, 'was': 34, 'impossible': 2, 'all': 6, 'knew': 5, 'that': 27, 'moment': 4, 'when': 2, 's': 19, 'chair': 1, 'swung': 1, 'around': 4, 'seen': 1, 'sitting': 1, 'in': 33, 'spasm': 1, 'horror': 1, 'which': 4, 'awoken': 1, 'him': 19, 'or': 3, 'pain': 4, 'scar': 10, 'who': 7, 'old': 4, 'for': 13, 'definitely': 1, 'watched': 2, 'fall': 1, 'ground': 1, 'becoming': 1, 'confused': 1, 'put': 1, 'face': 3, 'hands': 3, 'blocking': 1, 'out': 7, 'bedroom': 2, 'trying': 3, 'hold': 2, 'picture': 1, 'dimly': 1, 'lit': 1, 'room': 5, 'keep': 1, 'water': 1, 'cupped': 1, 'details': 1, 'were': 12, 'now': 6, 'trickling': 1, 'away': 3, 'fast': 1, 'them': 8, 'www': 11, 'ztcprep': 11, 'com': 11, 'talking': 1, 'about': 13, 'someone': 5, 'they': 12, 'killed': 2, 'could': 4, 'not': 6, 'name': 2, 'plotting': 1, 'kill': 1, 'else': 1, 'took': 1, 'opened': 1, 'stared': 2, 'expecting': 2, 'p': 6, 'g': 6, 'e': 6, '19': 1, 'potter': 8, 'goblet': 6, 'fire': 6, 'j': 6, 'k': 6, 'rowling': 6, 'see': 2, 'something': 4, 'unusual': 2, 'happened': 1, 'extraordinary': 1, 'number': 1, 'things': 1, 'this': 4, 'large': 2, 'wooden': 1, 'trunk': 1, 'stood': 1, 'open': 2, 'foot': 3, 'bed': 4, 'revealing': 1, 'cauldron': 1, 'broomstick': 2, 'black': 2, 'robes': 3, 'assorted': 1, 'spellbooks': 1, 'rolls': 1, 'parchment': 2, 'littered': 1, 'part': 1, 'desk': 2, 'taken': 2, 'up': 3, 'by': 6, 'empty': 1, 'cage': 1, 'snowy': 1, 'owl': 2, 'hedwig': 2, 'usually': 1, 'perched': 1, 'floor': 1, 'beside': 1, 'book': 6, 'lay': 1, 'reading': 1, 'before': 3, 'fell': 1, 'asleep': 3, 'last': 4, 'night': 3, 'pictures': 1, 'moving': 1, 'men': 1, 'bright': 1, 'orange': 1, 'zooming': 1, 'sight': 2, 'broomsticks': 1, 'throwing': 1, 'red': 2, 'ball': 2, 'one': 3, 'another': 1, 'walked': 1, 'over': 3, 'picked': 1, 'wizards': 3, 'score': 1, 'spectacular': 1, 'goal': 1, 'putting': 1, 'through': 2, 'fifty': 2, 'hoop': 1, 'then': 7, 'snapped': 1, 'shut': 1, 'even': 5, 'quidditch': 2, 'opinion': 1, 'best': 5, 'sport': 1, 'world': 5, 'couldn': 3, 't': 17, 'distract': 1, 'placed': 1, 'flying': 1, 'with': 9, 'cannons': 1, 'bedside': 1, 'table': 1, 'crossed': 1, 'window': 2, 'drew': 1, 'back': 4, 'curtains': 2, 'survey': 1, 'street': 2, 'below': 1, 'privet': 2, 'drive': 2, 'exactly': 1, 'respectable': 1, 'suburban': 1, 'would': 11, 'be': 8, 'expected': 1, 'look': 1, 'early': 1, 'hours': 1, 'saturday': 1, 'morning': 2, 'far': 3, 'darkness': 1, 'wasn': 5, 'living': 3, 'creature': 1, 'cat': 1, 'yet': 4, 'went': 6, 'restlessly': 1, 'sat': 2, 'running': 1, 'finger': 1, 'again': 4, 'bothered': 1, 'no': 4, 'stranger': 1, 'injury': 1, 'lost': 1, 'bones': 1, 'from': 5, 'right': 1, 'arm': 2, 'once': 2, 'painfully': 1, 'regrown': 1, 'same': 1, 'pierced': 1, 'venomous': 1, 'long': 8, 'fang': 1, 'afterward': 1, 'only': 4, 'year': 4, 'fallen': 1, 'feet': 1, 'airborne': 1, 'used': 2, 'bizarre': 1, '20': 1, 'accidents': 1, 'injuries': 1, 'unavoidable': 1, 'if': 4, 'you': 7, 'attended': 1, 'hogwarts': 6, 'school': 2, 'witchcraft': 1, 'wizardry': 1, 'knack': 1, 'attracting': 1, 'lot': 1, 'trouble': 1, 'thing': 1, 'bothering': 1, 'time': 2, 'hurt': 4, 'because': 2, 'close': 1, 'here': 1, 'idea': 4, 'lurking': 1, 'absurd': 1, 'listened': 1, 'closely': 1, 'silence': 1, 'half': 1, 'hear': 1, 'creak': 1, 'stair': 1, 'swish': 1, 'cloak': 1, 'jumped': 1, 'slightly': 1, 'heard': 1, 'cousin': 1, 'dudley': 3, 'give': 1, 'tremendous': 1, 'grunting': 1, 'snore': 1, 'next': 1, 'shook': 1, 'himself': 3, 'mentally': 1, 'being': 1, 'stupid': 3, 'house': 4, 'except': 1, 'uncle': 2, 'vernon': 2, 'aunt': 2, 'petunia': 2, 'plainly': 1, 'still': 5, 'their': 2, 'dreams': 1, 'untroubled': 1, 'painless': 1, 'way': 1, 'liked': 1, 'dursleys': 2, 'ever': 1, 'any': 5, 'help': 2, 'awake': 1, 'relatives': 1, 'muggles': 1, 'hated': 1, 'despised': 1, 'magic': 4, 'form': 1, 'meant': 1, 'welcome': 1, 'dry': 1, 'rot': 1, 'explained': 1, 'absences': 1, 'three': 1, 'years': 2, 'telling': 2, 'everyone': 2, 'st': 1, 'brutus': 1, 'secure': 1, 'center': 1, 'incurably': 1, 'criminal': 1, 'boys': 1, 'perfectly': 1, 'well': 1, 'underage': 1, 'wizard': 8, 'allowed': 1, 'use': 1, 'outside': 1, 'apt': 1, 'blame': 1, 'anything': 2, 'wrong': 1, 'never': 2, 'able': 2, 'confide': 1, 'tell': 1, 'life': 3, 'wizarding': 2, 'going': 1, 'awoke': 1, '21': 1, 'hurting': 2, 'worries': 1, 'laughable': 1, 'come': 1, 'live': 1, 'first': 1, 'place': 1, 'hadn': 3, 'have': 4, 'lightning': 2, 'forehead': 3, 'parents': 1, 'most': 1, 'powerful': 1, 'dark': 2, 'century': 1, 'gaining': 1, 'power': 2, 'steadily': 1, 'eleven': 1, 'arrived': 2, 'father': 1, 'mother': 1, 'turned': 2, 'wand': 1, 'performed': 1, 'curse': 5, 'disposed': 1, 'many': 1, 'full': 2, 'grown': 1, 'witches': 2, 'steady': 1, 'rise': 1, 'incredibly': 1, 'worked': 2, 'instead': 1, 'killing': 1, 'boy': 1, 'rebounded': 1, 'upon': 1, 'survived': 2, 'nothing': 1, 'shaped': 1, 'cut': 1, 'reduced': 1, 'barely': 1, 'alive': 1, 'powers': 1, 'gone': 1, 'almost': 2, 'extinguished': 1, 'fled': 1, 'terror': 1, 'secret': 1, 'community': 1, 'lived': 1, 'so': 6, 'lifted': 1, 'followers': 1, 'disbanded': 1, 'become': 1, 'famous': 1, 'enough': 1, 'shock': 1, 'discover': 1, 'eleventh': 1, 'birthday': 2, 'more': 1, 'disconcerting': 1, 'find': 4, 'hidden': 1, 'heads': 1, 'whispers': 1, 'followed': 1, 'wherever': 2, 'end': 2, 'summer': 2, 'starting': 1, 'fourth': 1, 'already': 1, 'counting': 1, 'days': 1, 'until': 2, 'castle': 1, '22': 1, 'fortnight': 1, 'go': 3, 'hopelessly': 1, 'eye': 1, 'paused': 2, 'cards': 1, 'two': 2, 'friends': 1, 'sent': 1, 'july': 1, 'say': 1, 'wrote': 2, 'told': 1, 'hermione': 3, 'granger': 1, 'seemed': 2, 'fill': 1, 'head': 2, 'shrill': 1, 'panicky': 1, 'your': 2, 'really': 2, 'serious': 1, 'write': 2, 'professor': 2, 'dumbledore': 5, 'i': 4, 'll': 2, 'check': 1, 'common': 2, 'magical': 2, 'ailments': 2, 'afflictions': 2, 'maybe': 2, 'scars': 2, 'yes': 1, 'advice': 2, 'straight': 2, 'headmaster': 2, 'meantime': 1, 'consult': 1, 'inky': 1, 'blue': 1, 'sky': 1, 'doubted': 1, 'much': 1, 'whether': 1, 'person': 1, 'highly': 1, 'unlikely': 1, 'therefore': 1, 'symptoms': 1, 'listed': 1, 'informing': 1, 'where': 1, 'during': 1, 'holidays': 1, 'amused': 1, 'picturing': 1, 'silver': 1, 'beard': 1, 'length': 1, 'pointed': 1, 'hat': 1, 'stretched': 1, 'beach': 1, 'somewhere': 1, 'rubbing': 1, 'suntan': 1, 'lotion': 1, 'onto': 1, 'crooked': 1, 'nose': 1, 'sure': 1, 'failed': 1, 'deliver': 1, 'letter': 1, 'anyone': 1, 'without': 2, 'address': 1, 'dear': 2, 'sorry': 1, 'bother': 1, 'my': 1, 'yours': 1, 'sincerely': 1, '23': 1, 'inside': 1, 'words': 1, 'sounded': 1, 'imagine': 1, 'other': 1, 'friend': 1, 'ron': 4, 'weasley': 4, 'reaction': 1, 'hair': 1, 'nosed': 1, 'freckled': 1, 'swim': 1, 'wearing': 1, 'bemused': 1, 'expression': 1, 'know': 2, 'can': 2, 'near': 1, 'mean': 1, 'd': 2, 'wouldn': 2, 'do': 1, 'dunno': 1, 'always': 1, 'twinge': 1, 'bit': 1, 'ask': 2, 'dad': 1, 'mr': 1, 'fully': 1, 'qualified': 1, 'misuse': 1, 'muggle': 1, 'artifacts': 1, 'office': 1, 'ministry': 1, 'didn': 3, 'particular': 1, 'expertise': 1, 'matter': 1, 'curses': 1, 'case': 1, 'whole': 1, 'family': 2, 'knowing': 1, 'getting': 1, 'jumpy': 1, 'few': 1, 'moments': 1, 'mrs': 1, 'fuss': 1, 'worse': 1, 'than': 1, 'fred': 1, 'george': 1, 'sixteen': 1, 'twin': 1, 'brothers': 1, 'might': 2, 'think': 1, 'losing': 1, 'nerve': 1, 'weasleys': 1, 'favorite': 1, 'hoping': 1, 'invite': 1, 'stay': 1, 'mentioned': 1, 'cup': 1, 'somehow': 1, 'want': 1, 'visit': 1, 'punctuated': 1, 'anxious': 1, 'inquiries': 1, 'kneaded': 1, 'knuckles': 1, 'wanted': 1, 'shameful': 1, 'admit': 1, 'parent': 1, 'adult': 1, 'whose': 1, 'feeling': 1, 'cared': 1, 'experience': 1, '24': 1, 'solution': 1, 'came': 1, 'simple': 2, 'obvious': 1, 'believe': 1, 'sirius': 6, 'leapt': 1, 'hurried': 1, 'across': 1, 'pulled': 1, 'piece': 1, 'toward': 1, 'loaded': 1, 'eagle': 1, 'feather': 1, 'quill': 1, 'ink': 1, 'wondering': 1, 'how': 1, 'phrase': 1, 'problem': 1, 'marveling': 1, 'fact': 1, 'perhaps': 1, 'surprising': 1, 'after': 1, 'found': 1, 'godfather': 1, 'months': 1, 'ago': 1, 'reason': 1, 'complete': 1, 'absence': 1, 'azkaban': 1, 'terrifying': 1, 'jail': 1, 'guarded': 1}\n"
     ]
    }
   ],
   "source": [
    "from functools import reduce\n",
    "import re\n",
    "import string \n",
    "\n",
    "with open('Harry_Potterfile1.txt', 'rb') as file:\n",
    "    lines = file.readlines()\n",
    "    lines = [line.decode('utf-8') for line in lines]\n",
    "    text = ''.join(lines)\n",
    "    words = map_words(text)\n",
    "    reduced_count = {}\n",
    "    counts = reduce_words(reduced_count, words)\n",
    "    print(counts)\n"
   ]
  },
  {
   "cell_type": "markdown",
   "id": "c81a87cf",
   "metadata": {},
   "source": [
    "# From the second text file (file2.txt), write Python code and use MapReduct to count how many times non-English words (names, places, spells etc.) were used. List those words and how many times each was repeated."
   ]
  },
  {
   "cell_type": "code",
   "execution_count": 4,
   "id": "a0a11961",
   "metadata": {},
   "outputs": [
    {
     "name": "stdout",
     "output_type": "stream",
     "text": [
      "Requirement already satisfied: pyenchant in c:\\users\\priya\\anaconda3\\lib\\site-packages (3.2.2)\n"
     ]
    }
   ],
   "source": [
    "!pip install pyenchant"
   ]
  },
  {
   "cell_type": "code",
   "execution_count": 5,
   "id": "a580f1e3",
   "metadata": {},
   "outputs": [],
   "source": [
    "import string"
   ]
  },
  {
   "cell_type": "code",
   "execution_count": 6,
   "id": "a4ebd1a2",
   "metadata": {},
   "outputs": [],
   "source": [
    "def map_words(text):\n",
    "    # Split text into individual words and remove punctuation\n",
    "    pattern = re.compile(r'\\w+')\n",
    "    words = pattern.findall(text.lower())\n",
    "    words = [word.strip(string.punctuation) for word in words]\n",
    "    return words\n",
    "\n"
   ]
  },
  {
   "cell_type": "code",
   "execution_count": 7,
   "id": "734675fa",
   "metadata": {},
   "outputs": [],
   "source": [
    "def reduce_words(reduced_count, word):\n",
    "    # Count the occurrences of each non-English word\n",
    "    if word and not english_dict.check(word):\n",
    "        if word in reduced_count:\n",
    "            reduced_count[word] += 1\n",
    "        else:\n",
    "            reduced_count[word] = 1\n",
    "    return reduced_count\n",
    "\n"
   ]
  },
  {
   "cell_type": "code",
   "execution_count": 8,
   "id": "996a0db6",
   "metadata": {},
   "outputs": [
    {
     "name": "stdout",
     "output_type": "stream",
     "text": [
      "{'mr': 11, 'hermione': 9, 'ron': 11, 'sirius': 3, 'rowling': 6, 'dumbledore': 2, 'www': 11, 'ztcprep': 11, 've': 6, 'mrs': 9, 'weasley': 11, 'fred': 4, 'george': 3, 'hogwarts': 2, 'crookshanks': 2, 'percy': 8, 'perce': 1, 'weasleys': 1, 'tuesday': 1, 'jorkins': 1, 'albania': 2, 'australia': 1, 'ireland': 2, 'peru': 1, 'bulgaria': 1, 'viktor': 1, 'krum': 2, 'england': 1, 'wizarding': 1, 'transylvania': 1, 'uganda': 1, 'scotland': 1, 'luxembourg': 1, 'gryffindor': 1, 'quidditch': 1, 'firebolt': 1}\n"
     ]
    }
   ],
   "source": [
    "import enchant\n",
    "import string\n",
    "import re\n",
    "\n",
    "english_dict = enchant.Dict(\"en_US\")\n",
    "noneng_words = []\n",
    "reduced_count = {}\n",
    "\n",
    "\n",
    "with open('Harry_Potterfile2.txt', 'rb') as file:\n",
    "    lines = file.readlines()\n",
    "    lines = [line.decode('utf-8') for line in lines]\n",
    "    text = ''.join(lines)\n",
    "    words = map_words(text)\n",
    "    for word in words:\n",
    "        reduced_count = reduce_words(reduced_count, word)\n",
    "\n",
    "    print(reduced_count)\n"
   ]
  },
  {
   "cell_type": "code",
   "execution_count": null,
   "id": "9a14697f",
   "metadata": {},
   "outputs": [],
   "source": []
  }
 ],
 "metadata": {
  "kernelspec": {
   "display_name": "Python 3 (ipykernel)",
   "language": "python",
   "name": "python3"
  },
  "language_info": {
   "codemirror_mode": {
    "name": "ipython",
    "version": 3
   },
   "file_extension": ".py",
   "mimetype": "text/x-python",
   "name": "python",
   "nbconvert_exporter": "python",
   "pygments_lexer": "ipython3",
   "version": "3.9.13"
  }
 },
 "nbformat": 4,
 "nbformat_minor": 5
}
