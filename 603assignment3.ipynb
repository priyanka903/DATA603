{
  "cells": [
    {
      "cell_type": "code",
      "execution_count": 1,
      "metadata": {
        "colab": {
          "base_uri": "https://localhost:8080/"
        },
        "id": "WhJB61F7TJdw",
        "outputId": "837291d5-8063-4097-dd88-86e2a4fa10a7"
      },
      "outputs": [
        {
          "output_type": "stream",
          "name": "stdout",
          "text": [
            "Looking in indexes: https://pypi.org/simple, https://us-python.pkg.dev/colab-wheels/public/simple/\n",
            "Requirement already satisfied: pyspark in /usr/local/lib/python3.9/dist-packages (3.3.2)\n",
            "Requirement already satisfied: py4j==0.10.9.5 in /usr/local/lib/python3.9/dist-packages (from pyspark) (0.10.9.5)\n"
          ]
        }
      ],
      "source": [
        "#Import pyspark\n",
        "!pip install pyspark"
      ]
    },
    {
      "cell_type": "markdown",
      "source": [
        "Creating a SparkSession with an app name"
      ],
      "metadata": {
        "id": "6r77AEYKNMP1"
      }
    },
    {
      "cell_type": "code",
      "execution_count": 2,
      "metadata": {
        "id": "KcwtwR-KTR0y"
      },
      "outputs": [],
      "source": [
        "# Import SparkSession\n",
        "from pyspark.sql import SparkSession\n"
      ]
    },
    {
      "cell_type": "code",
      "execution_count": 3,
      "metadata": {
        "id": "O0bthpfzTSNM"
      },
      "outputs": [],
      "source": [
        "\n",
        "spark_session = SparkSession.builder.appName(\"ChicagoCrimeAnalysis\").getOrCreate()\n"
      ]
    },
    {
      "cell_type": "code",
      "execution_count": 4,
      "metadata": {
        "colab": {
          "base_uri": "https://localhost:8080/",
          "height": 219
        },
        "id": "g2U5vi2RTSfY",
        "outputId": "f0ae052e-34c3-48f0-eca7-ffb03983aecb"
      },
      "outputs": [
        {
          "output_type": "execute_result",
          "data": {
            "text/plain": [
              "<pyspark.sql.session.SparkSession at 0x7fec9cd98220>"
            ],
            "text/html": [
              "\n",
              "            <div>\n",
              "                <p><b>SparkSession - in-memory</b></p>\n",
              "                \n",
              "        <div>\n",
              "            <p><b>SparkContext</b></p>\n",
              "\n",
              "            <p><a href=\"http://5e6bde4a778c:4040\">Spark UI</a></p>\n",
              "\n",
              "            <dl>\n",
              "              <dt>Version</dt>\n",
              "                <dd><code>v3.3.2</code></dd>\n",
              "              <dt>Master</dt>\n",
              "                <dd><code>local[*]</code></dd>\n",
              "              <dt>AppName</dt>\n",
              "                <dd><code>ChicagoCrimeAnalysis</code></dd>\n",
              "            </dl>\n",
              "        </div>\n",
              "        \n",
              "            </div>\n",
              "        "
            ]
          },
          "metadata": {},
          "execution_count": 4
        }
      ],
      "source": [
        "spark_session\n",
        "# Import a Spark function from library\n"
      ]
    },
    {
      "cell_type": "markdown",
      "source": [
        "Defining the schema for loading the Chicago crime dataset "
      ],
      "metadata": {
        "id": "_bUdDmd3NTL0"
      }
    },
    {
      "cell_type": "code",
      "execution_count": 5,
      "metadata": {
        "id": "OGDRY7Q9T-k2"
      },
      "outputs": [],
      "source": [
        "from pyspark.sql.types import StructType, StructField, IntegerType, StringType, TimestampType, FloatType\n",
        "\n",
        "schema_name = StructType([\n",
        "    StructField(\"ID\", IntegerType(), True),\n",
        "    StructField(\"CaseNumber\", StringType(), True),\n",
        "    StructField(\"Date\", StringType(), True),\n",
        "    StructField(\"Block\", StringType(), True),\n",
        "    StructField(\"IUCR\", StringType(), True),\n",
        "    StructField(\"PrimaryType\", StringType(), True),\n",
        "    StructField(\"Description\", StringType(), True),\n",
        "    StructField(\"LocationDescription\", StringType(), True),\n",
        "    StructField(\"Arrest\", StringType(), True),\n",
        "    StructField(\"Domestic\", StringType(), True),\n",
        "    StructField(\"Beat\", IntegerType(), True),\n",
        "    StructField(\"District\", IntegerType(), True),\n",
        "    StructField(\"Ward\", IntegerType(), True),\n",
        "    StructField(\"CommunityArea\", IntegerType(), True),\n",
        "    StructField(\"FBICode\", StringType(), True),\n",
        "    StructField(\"XCoordinate\", FloatType(), True),\n",
        "    StructField(\"YCoordinate\", FloatType(), True),\n",
        "    StructField(\"Year\", IntegerType(), True),\n",
        "    StructField(\"UpdatedOn\", TimestampType(), True),\n",
        "    StructField(\"Latitude\", FloatType(), True),\n",
        "    StructField(\"Longitude\", FloatType(), True),\n",
        "    StructField(\"Location\", StringType(), True)\n",
        "])\n"
      ]
    },
    {
      "cell_type": "markdown",
      "source": [
        " Loading the Chicago crime data\n"
      ],
      "metadata": {
        "id": "2sfdTIXkMuRA"
      }
    },
    {
      "cell_type": "code",
      "execution_count": 6,
      "metadata": {
        "id": "4mvdjkr7cvBi"
      },
      "outputs": [],
      "source": [
        "df = spark_session.read.format(\"csv\").option(\"header\", \"true\").option(\"delimiter\", \",\").schema(schema_name).load(\"Crimes_-_2001_to_Present.csv\")\n"
      ]
    },
    {
      "cell_type": "code",
      "source": [
        "df.columns"
      ],
      "metadata": {
        "colab": {
          "base_uri": "https://localhost:8080/"
        },
        "id": "_Ijeafe9O3bn",
        "outputId": "c4d987e0-7085-48e3-9557-54ac426867bd"
      },
      "execution_count": 7,
      "outputs": [
        {
          "output_type": "execute_result",
          "data": {
            "text/plain": [
              "['ID',\n",
              " 'CaseNumber',\n",
              " 'Date',\n",
              " 'Block',\n",
              " 'IUCR',\n",
              " 'PrimaryType',\n",
              " 'Description',\n",
              " 'LocationDescription',\n",
              " 'Arrest',\n",
              " 'Domestic',\n",
              " 'Beat',\n",
              " 'District',\n",
              " 'Ward',\n",
              " 'CommunityArea',\n",
              " 'FBICode',\n",
              " 'XCoordinate',\n",
              " 'YCoordinate',\n",
              " 'Year',\n",
              " 'UpdatedOn',\n",
              " 'Latitude',\n",
              " 'Longitude',\n",
              " 'Location']"
            ]
          },
          "metadata": {},
          "execution_count": 7
        }
      ]
    },
    {
      "cell_type": "code",
      "source": [
        "df.show()"
      ],
      "metadata": {
        "id": "L_M8MamdJxZ_",
        "colab": {
          "base_uri": "https://localhost:8080/"
        },
        "outputId": "905cc61a-448c-458e-faf4-69566ab833f0"
      },
      "execution_count": 8,
      "outputs": [
        {
          "output_type": "stream",
          "name": "stdout",
          "text": [
            "+--------+----------+--------------------+--------------------+----+------------------+--------------------+--------------------+------+--------+----+--------+----+-------------+-------+-----------+-----------+----+---------+---------+----------+--------------------+\n",
            "|      ID|CaseNumber|                Date|               Block|IUCR|       PrimaryType|         Description| LocationDescription|Arrest|Domestic|Beat|District|Ward|CommunityArea|FBICode|XCoordinate|YCoordinate|Year|UpdatedOn| Latitude| Longitude|            Location|\n",
            "+--------+----------+--------------------+--------------------+----+------------------+--------------------+--------------------+------+--------+----+--------+----+-------------+-------+-----------+-----------+----+---------+---------+----------+--------------------+\n",
            "|10224738|  HY411648|09/05/2015 01:30:...|     043XX S WOOD ST|0486|           BATTERY|DOMESTIC BATTERY ...|           RESIDENCE| false|    true| 924|       9|  12|           61|    08B|  1165074.0|  1875917.0|2015|     null|41.815117|    -87.67|(41.815117282, -8...|\n",
            "|10224739|  HY411615|09/04/2015 11:30:...| 008XX N CENTRAL AVE|0870|             THEFT|      POCKET-PICKING|             CTA BUS| false|   false|1511|      15|  29|           25|     06|  1138875.0|  1904869.0|2015|     null| 41.89508|  -87.7654|(41.895080471, -8...|\n",
            "|11646166|  JC213529|09/01/2018 12:01:...|082XX S INGLESIDE...|0810|             THEFT|           OVER $500|           RESIDENCE| false|    true| 631|       6|   8|           44|     06|       null|       null|2018|     null|     null|      null|                null|\n",
            "|10224740|  HY411595|09/05/2015 12:45:...|   035XX W BARRY AVE|2023|         NARCOTICS|POSS: HEROIN(BRN/...|            SIDEWALK|  true|   false|1412|      14|  35|           21|     18|  1152037.0|  1920384.0|2015|     null|41.937405| -87.71665|(41.937405765, -8...|\n",
            "|10224741|  HY411610|09/05/2015 01:00:...| 0000X N LARAMIE AVE|0560|           ASSAULT|              SIMPLE|           APARTMENT| false|    true|1522|      15|  28|           25|    08A|  1141706.0|  1900086.0|2015|     null|41.881905| -87.75512|(41.881903443, -8...|\n",
            "|10224742|  HY411435|09/05/2015 10:55:...| 082XX S LOOMIS BLVD|0610|          BURGLARY|      FORCIBLE ENTRY|           RESIDENCE| false|   false| 614|       6|  21|           71|     05|  1168430.0|  1850165.0|2015|     null|41.744377| -87.65843|(41.744378879, -8...|\n",
            "|10224743|  HY411629|09/04/2015 06:00:...|021XX W CHURCHILL ST|0620|          BURGLARY|      UNLAWFUL ENTRY|    RESIDENCE-GARAGE| false|   false|1434|      14|  32|           24|     05|  1161628.0|  1912157.0|2015|     null|41.914635| -87.68163|(41.914635603, -8...|\n",
            "|10224744|  HY411605|09/05/2015 01:00:...|   025XX W CERMAK RD|0860|             THEFT|        RETAIL THEFT|  GROCERY FOOD STORE|  true|   false|1034|      10|  25|           31|     06|  1159734.0|  1889313.0|2015|     null| 41.85199| -87.68922|(41.851988885, -8...|\n",
            "|10224745|  HY411654|09/05/2015 11:30:...|031XX W WASHINGTO...|0320|           ROBBERY|STRONGARM - NO WE...|              STREET| false|    true|1222|      12|  27|           27|     03|  1155536.0|  1900515.0|2015|     null|41.882812| -87.70432|(41.88281374, -87...|\n",
            "|11645836|  JC212333|05/01/2016 12:25:...| 055XX S ROCKWELL ST|1153|DECEPTIVE PRACTICE|FINANCIAL IDENTIT...|                null| false|   false| 824|       8|  15|           63|     11|       null|       null|2016|     null|     null|      null|                null|\n",
            "|10224746|  HY411662|09/05/2015 02:00:...|  071XX S PULASKI RD|0820|             THEFT|      $500 AND UNDER|PARKING LOT/GARAG...| false|   false| 833|       8|  13|           65|     06|  1150938.0|  1857056.0|2015|     null| 41.76365| -87.72234|(41.763647552, -8...|\n",
            "|10224749|  HY411626|09/05/2015 11:00:...|052XX N MILWAUKEE...|0460|           BATTERY|              SIMPLE|  SMALL RETAIL STORE| false|   false|1623|      16|  45|           11|    08B|  1137969.0|  1934340.0|2015|     null|41.975967| -87.76801|(41.975968415, -8...|\n",
            "|10224750|  HY411632|09/05/2015 03:00:...|    0000X W 103RD ST|2820|     OTHER OFFENSE|    TELEPHONE THREAT|           APARTMENT| false|    true| 512|       5|  34|           49|     26|  1177871.0|  1836676.0|2015|     null|41.707153|-87.624245|(41.707154919, -8...|\n",
            "|10224751|  HY411566|09/05/2015 12:50:...|     013XX E 47TH ST|0486|           BATTERY|DOMESTIC BATTERY ...|              STREET| false|    true| 222|       2|   4|           39|    08B|  1185907.0|  1874105.0|2015|     null|41.809677|-87.593636|(41.809678314, -8...|\n",
            "|10224752|  HY411601|09/03/2015 01:00:...| 020XX W SCHILLER ST|0810|             THEFT|           OVER $500|              STREET| false|   false|1424|      14|   1|           24|     06|  1162574.0|  1909428.0|2015|     null|41.907127| -87.67823|(41.907127255, -8...|\n",
            "|10224753|  HY411489|09/05/2015 11:45:...|  080XX S JUSTINE ST|0497|           BATTERY|AGGRAVATED DOMEST...|           APARTMENT| false|   false| 612|       6|  21|           71|    04B|  1167400.0|  1851512.0|2015|     null|41.748096| -87.66216|(41.748097343, -8...|\n",
            "|10224754|  HY411656|09/05/2015 01:30:...|007XX N LEAMINGTO...|1320|   CRIMINAL DAMAGE|          TO VEHICLE|              STREET| false|   false|1531|      15|  28|           25|     14|  1141889.0|  1904448.0|2015|     null| 41.89387| -87.75434|(41.893869916, -8...|\n",
            "|10224756|  HY410094|07/08/2015 12:00:...|103XX S TORRENCE AVE|0620|          BURGLARY|      UNLAWFUL ENTRY|               OTHER| false|   false| 434|       4|  10|           51|     05|  1195508.0|  1836950.0|2015|     null| 41.70749| -87.55965|(41.707490122, -8...|\n",
            "|10224757|  HY411388|09/05/2015 09:55:...|  088XX S PAULINA ST|0610|          BURGLARY|      FORCIBLE ENTRY|           RESIDENCE|  true|   false|2221|      22|  21|           71|     05|  1166554.0|  1846067.0|2015|     null|41.733173| -87.66542|(41.733173536, -8...|\n",
            "|10224758|  HY411568|09/05/2015 12:35:...|    059XX W GRACE ST|0486|           BATTERY|DOMESTIC BATTERY ...|              STREET| false|    true|1633|      16|  38|           15|    08B|  1136014.0|  1924656.0|2015|     null| 41.94943| -87.77544|(41.949429769, -8...|\n",
            "+--------+----------+--------------------+--------------------+----+------------------+--------------------+--------------------+------+--------+----+--------+----+-------------+-------+-----------+-----------+----+---------+---------+----------+--------------------+\n",
            "only showing top 20 rows\n",
            "\n"
          ]
        }
      ]
    },
    {
      "cell_type": "markdown",
      "source": [
        "Clean the data:\n",
        "* Remove all null values.\n",
        "* Change 'Date' column data type"
      ],
      "metadata": {
        "id": "tipBWPceMnxY"
      }
    },
    {
      "cell_type": "code",
      "source": [
        "from pyspark.sql.functions import col, count\n",
        "\n",
        "# Count the number of null values in each column\n",
        "null_counts = df.select([count(col(c).isNull().alias(c)) for c in df.columns])\n",
        "\n",
        "# Print the null counts\n",
        "null_counts.show()\n"
      ],
      "metadata": {
        "colab": {
          "base_uri": "https://localhost:8080/"
        },
        "id": "8MiH1chsN7oc",
        "outputId": "429a8fe0-ed30-4f2e-c7ae-dba6fd400684"
      },
      "execution_count": 9,
      "outputs": [
        {
          "output_type": "stream",
          "name": "stdout",
          "text": [
            "+-------------------------+-----------------------------------------+-----------------------------+-------------------------------+-----------------------------+-------------------------------------------+-------------------------------------------+-----------------------------------------------------------+---------------------------------+-------------------------------------+-----------------------------+-------------------------------------+-----------------------------+-----------------------------------------------+-----------------------------------+-------------------------------------------+-------------------------------------------+-----------------------------+---------------------------------------+-------------------------------------+---------------------------------------+-------------------------------------+\n",
            "|count((ID IS NULL) AS ID)|count((CaseNumber IS NULL) AS CaseNumber)|count((Date IS NULL) AS Date)|count((Block IS NULL) AS Block)|count((IUCR IS NULL) AS IUCR)|count((PrimaryType IS NULL) AS PrimaryType)|count((Description IS NULL) AS Description)|count((LocationDescription IS NULL) AS LocationDescription)|count((Arrest IS NULL) AS Arrest)|count((Domestic IS NULL) AS Domestic)|count((Beat IS NULL) AS Beat)|count((District IS NULL) AS District)|count((Ward IS NULL) AS Ward)|count((CommunityArea IS NULL) AS CommunityArea)|count((FBICode IS NULL) AS FBICode)|count((XCoordinate IS NULL) AS XCoordinate)|count((YCoordinate IS NULL) AS YCoordinate)|count((Year IS NULL) AS Year)|count((UpdatedOn IS NULL) AS UpdatedOn)|count((Latitude IS NULL) AS Latitude)|count((Longitude IS NULL) AS Longitude)|count((Location IS NULL) AS Location)|\n",
            "+-------------------------+-----------------------------------------+-----------------------------+-------------------------------+-----------------------------+-------------------------------------------+-------------------------------------------+-----------------------------------------------------------+---------------------------------+-------------------------------------+-----------------------------+-------------------------------------+-----------------------------+-----------------------------------------------+-----------------------------------+-------------------------------------------+-------------------------------------------+-----------------------------+---------------------------------------+-------------------------------------+---------------------------------------+-------------------------------------+\n",
            "|                   101722|                                   101722|                       101722|                         101722|                       101722|                                     101722|                                     101722|                                                     101722|                           101722|                               101722|                       101722|                               101722|                       101722|                                         101722|                             101722|                                     101722|                                     101722|                       101722|                                 101722|                               101722|                                 101722|                               101722|\n",
            "+-------------------------+-----------------------------------------+-----------------------------+-------------------------------+-----------------------------+-------------------------------------------+-------------------------------------------+-----------------------------------------------------------+---------------------------------+-------------------------------------+-----------------------------+-------------------------------------+-----------------------------+-----------------------------------------------+-----------------------------------+-------------------------------------------+-------------------------------------------+-----------------------------+---------------------------------------+-------------------------------------+---------------------------------------+-------------------------------------+\n",
            "\n"
          ]
        }
      ]
    },
    {
      "cell_type": "code",
      "source": [
        "#Remove all null values.\n",
        "from pyspark.sql.functions import col\n",
        "df = df.na.fill(\"Not Available\")\n",
        "df.show()"
      ],
      "metadata": {
        "id": "OMt4_-fmJwr4",
        "colab": {
          "base_uri": "https://localhost:8080/"
        },
        "outputId": "46d5fbf6-2101-47f0-a4a8-45b84766957f"
      },
      "execution_count": 10,
      "outputs": [
        {
          "output_type": "stream",
          "name": "stdout",
          "text": [
            "+--------+----------+--------------------+--------------------+----+------------------+--------------------+--------------------+------+--------+----+--------+----+-------------+-------+-----------+-----------+----+---------+---------+----------+--------------------+\n",
            "|      ID|CaseNumber|                Date|               Block|IUCR|       PrimaryType|         Description| LocationDescription|Arrest|Domestic|Beat|District|Ward|CommunityArea|FBICode|XCoordinate|YCoordinate|Year|UpdatedOn| Latitude| Longitude|            Location|\n",
            "+--------+----------+--------------------+--------------------+----+------------------+--------------------+--------------------+------+--------+----+--------+----+-------------+-------+-----------+-----------+----+---------+---------+----------+--------------------+\n",
            "|10224738|  HY411648|09/05/2015 01:30:...|     043XX S WOOD ST|0486|           BATTERY|DOMESTIC BATTERY ...|           RESIDENCE| false|    true| 924|       9|  12|           61|    08B|  1165074.0|  1875917.0|2015|     null|41.815117|    -87.67|(41.815117282, -8...|\n",
            "|10224739|  HY411615|09/04/2015 11:30:...| 008XX N CENTRAL AVE|0870|             THEFT|      POCKET-PICKING|             CTA BUS| false|   false|1511|      15|  29|           25|     06|  1138875.0|  1904869.0|2015|     null| 41.89508|  -87.7654|(41.895080471, -8...|\n",
            "|11646166|  JC213529|09/01/2018 12:01:...|082XX S INGLESIDE...|0810|             THEFT|           OVER $500|           RESIDENCE| false|    true| 631|       6|   8|           44|     06|       null|       null|2018|     null|     null|      null|       Not Available|\n",
            "|10224740|  HY411595|09/05/2015 12:45:...|   035XX W BARRY AVE|2023|         NARCOTICS|POSS: HEROIN(BRN/...|            SIDEWALK|  true|   false|1412|      14|  35|           21|     18|  1152037.0|  1920384.0|2015|     null|41.937405| -87.71665|(41.937405765, -8...|\n",
            "|10224741|  HY411610|09/05/2015 01:00:...| 0000X N LARAMIE AVE|0560|           ASSAULT|              SIMPLE|           APARTMENT| false|    true|1522|      15|  28|           25|    08A|  1141706.0|  1900086.0|2015|     null|41.881905| -87.75512|(41.881903443, -8...|\n",
            "|10224742|  HY411435|09/05/2015 10:55:...| 082XX S LOOMIS BLVD|0610|          BURGLARY|      FORCIBLE ENTRY|           RESIDENCE| false|   false| 614|       6|  21|           71|     05|  1168430.0|  1850165.0|2015|     null|41.744377| -87.65843|(41.744378879, -8...|\n",
            "|10224743|  HY411629|09/04/2015 06:00:...|021XX W CHURCHILL ST|0620|          BURGLARY|      UNLAWFUL ENTRY|    RESIDENCE-GARAGE| false|   false|1434|      14|  32|           24|     05|  1161628.0|  1912157.0|2015|     null|41.914635| -87.68163|(41.914635603, -8...|\n",
            "|10224744|  HY411605|09/05/2015 01:00:...|   025XX W CERMAK RD|0860|             THEFT|        RETAIL THEFT|  GROCERY FOOD STORE|  true|   false|1034|      10|  25|           31|     06|  1159734.0|  1889313.0|2015|     null| 41.85199| -87.68922|(41.851988885, -8...|\n",
            "|10224745|  HY411654|09/05/2015 11:30:...|031XX W WASHINGTO...|0320|           ROBBERY|STRONGARM - NO WE...|              STREET| false|    true|1222|      12|  27|           27|     03|  1155536.0|  1900515.0|2015|     null|41.882812| -87.70432|(41.88281374, -87...|\n",
            "|11645836|  JC212333|05/01/2016 12:25:...| 055XX S ROCKWELL ST|1153|DECEPTIVE PRACTICE|FINANCIAL IDENTIT...|       Not Available| false|   false| 824|       8|  15|           63|     11|       null|       null|2016|     null|     null|      null|       Not Available|\n",
            "|10224746|  HY411662|09/05/2015 02:00:...|  071XX S PULASKI RD|0820|             THEFT|      $500 AND UNDER|PARKING LOT/GARAG...| false|   false| 833|       8|  13|           65|     06|  1150938.0|  1857056.0|2015|     null| 41.76365| -87.72234|(41.763647552, -8...|\n",
            "|10224749|  HY411626|09/05/2015 11:00:...|052XX N MILWAUKEE...|0460|           BATTERY|              SIMPLE|  SMALL RETAIL STORE| false|   false|1623|      16|  45|           11|    08B|  1137969.0|  1934340.0|2015|     null|41.975967| -87.76801|(41.975968415, -8...|\n",
            "|10224750|  HY411632|09/05/2015 03:00:...|    0000X W 103RD ST|2820|     OTHER OFFENSE|    TELEPHONE THREAT|           APARTMENT| false|    true| 512|       5|  34|           49|     26|  1177871.0|  1836676.0|2015|     null|41.707153|-87.624245|(41.707154919, -8...|\n",
            "|10224751|  HY411566|09/05/2015 12:50:...|     013XX E 47TH ST|0486|           BATTERY|DOMESTIC BATTERY ...|              STREET| false|    true| 222|       2|   4|           39|    08B|  1185907.0|  1874105.0|2015|     null|41.809677|-87.593636|(41.809678314, -8...|\n",
            "|10224752|  HY411601|09/03/2015 01:00:...| 020XX W SCHILLER ST|0810|             THEFT|           OVER $500|              STREET| false|   false|1424|      14|   1|           24|     06|  1162574.0|  1909428.0|2015|     null|41.907127| -87.67823|(41.907127255, -8...|\n",
            "|10224753|  HY411489|09/05/2015 11:45:...|  080XX S JUSTINE ST|0497|           BATTERY|AGGRAVATED DOMEST...|           APARTMENT| false|   false| 612|       6|  21|           71|    04B|  1167400.0|  1851512.0|2015|     null|41.748096| -87.66216|(41.748097343, -8...|\n",
            "|10224754|  HY411656|09/05/2015 01:30:...|007XX N LEAMINGTO...|1320|   CRIMINAL DAMAGE|          TO VEHICLE|              STREET| false|   false|1531|      15|  28|           25|     14|  1141889.0|  1904448.0|2015|     null| 41.89387| -87.75434|(41.893869916, -8...|\n",
            "|10224756|  HY410094|07/08/2015 12:00:...|103XX S TORRENCE AVE|0620|          BURGLARY|      UNLAWFUL ENTRY|               OTHER| false|   false| 434|       4|  10|           51|     05|  1195508.0|  1836950.0|2015|     null| 41.70749| -87.55965|(41.707490122, -8...|\n",
            "|10224757|  HY411388|09/05/2015 09:55:...|  088XX S PAULINA ST|0610|          BURGLARY|      FORCIBLE ENTRY|           RESIDENCE|  true|   false|2221|      22|  21|           71|     05|  1166554.0|  1846067.0|2015|     null|41.733173| -87.66542|(41.733173536, -8...|\n",
            "|10224758|  HY411568|09/05/2015 12:35:...|    059XX W GRACE ST|0486|           BATTERY|DOMESTIC BATTERY ...|              STREET| false|    true|1633|      16|  38|           15|    08B|  1136014.0|  1924656.0|2015|     null| 41.94943| -87.77544|(41.949429769, -8...|\n",
            "+--------+----------+--------------------+--------------------+----+------------------+--------------------+--------------------+------+--------+----+--------+----+-------------+-------+-----------+-----------+----+---------+---------+----------+--------------------+\n",
            "only showing top 20 rows\n",
            "\n"
          ]
        }
      ]
    },
    {
      "cell_type": "code",
      "execution_count": 11,
      "metadata": {
        "id": "VVd5n2LJcvHp",
        "colab": {
          "base_uri": "https://localhost:8080/"
        },
        "outputId": "ac40b0e3-feb4-4650-bace-7bccf7cbed50"
      },
      "outputs": [
        {
          "output_type": "stream",
          "name": "stdout",
          "text": [
            "root\n",
            " |-- ID: integer (nullable = true)\n",
            " |-- CaseNumber: string (nullable = false)\n",
            " |-- Date: timestamp (nullable = true)\n",
            " |-- Block: string (nullable = false)\n",
            " |-- IUCR: string (nullable = false)\n",
            " |-- PrimaryType: string (nullable = false)\n",
            " |-- Description: string (nullable = false)\n",
            " |-- LocationDescription: string (nullable = false)\n",
            " |-- Arrest: string (nullable = false)\n",
            " |-- Domestic: string (nullable = false)\n",
            " |-- Beat: integer (nullable = true)\n",
            " |-- District: integer (nullable = true)\n",
            " |-- Ward: integer (nullable = true)\n",
            " |-- CommunityArea: integer (nullable = true)\n",
            " |-- FBICode: string (nullable = false)\n",
            " |-- XCoordinate: float (nullable = true)\n",
            " |-- YCoordinate: float (nullable = true)\n",
            " |-- Year: integer (nullable = true)\n",
            " |-- UpdatedOn: timestamp (nullable = true)\n",
            " |-- Latitude: float (nullable = true)\n",
            " |-- Longitude: float (nullable = true)\n",
            " |-- Location: string (nullable = false)\n",
            "\n"
          ]
        }
      ],
      "source": [
        "from pyspark.sql.functions import to_timestamp\n",
        "\n",
        "# Change 'Date' column data type\n",
        "df = df.withColumn(\"Date\", to_timestamp(\"Date\", \"MM/dd/yyyy hh:mm:ss a\"))\n",
        "df.printSchema()"
      ]
    },
    {
      "cell_type": "code",
      "source": [
        "df.show()"
      ],
      "metadata": {
        "colab": {
          "base_uri": "https://localhost:8080/"
        },
        "id": "Criel_EQhWzN",
        "outputId": "9db81af0-77d2-4eef-e8bf-6a618505e852"
      },
      "execution_count": 12,
      "outputs": [
        {
          "output_type": "stream",
          "name": "stdout",
          "text": [
            "+--------+----------+-------------------+--------------------+----+------------------+--------------------+--------------------+------+--------+----+--------+----+-------------+-------+-----------+-----------+----+---------+---------+----------+--------------------+\n",
            "|      ID|CaseNumber|               Date|               Block|IUCR|       PrimaryType|         Description| LocationDescription|Arrest|Domestic|Beat|District|Ward|CommunityArea|FBICode|XCoordinate|YCoordinate|Year|UpdatedOn| Latitude| Longitude|            Location|\n",
            "+--------+----------+-------------------+--------------------+----+------------------+--------------------+--------------------+------+--------+----+--------+----+-------------+-------+-----------+-----------+----+---------+---------+----------+--------------------+\n",
            "|10224738|  HY411648|2015-09-05 13:30:00|     043XX S WOOD ST|0486|           BATTERY|DOMESTIC BATTERY ...|           RESIDENCE| false|    true| 924|       9|  12|           61|    08B|  1165074.0|  1875917.0|2015|     null|41.815117|    -87.67|(41.815117282, -8...|\n",
            "|10224739|  HY411615|2015-09-04 11:30:00| 008XX N CENTRAL AVE|0870|             THEFT|      POCKET-PICKING|             CTA BUS| false|   false|1511|      15|  29|           25|     06|  1138875.0|  1904869.0|2015|     null| 41.89508|  -87.7654|(41.895080471, -8...|\n",
            "|11646166|  JC213529|2018-09-01 00:01:00|082XX S INGLESIDE...|0810|             THEFT|           OVER $500|           RESIDENCE| false|    true| 631|       6|   8|           44|     06|       null|       null|2018|     null|     null|      null|       Not Available|\n",
            "|10224740|  HY411595|2015-09-05 12:45:00|   035XX W BARRY AVE|2023|         NARCOTICS|POSS: HEROIN(BRN/...|            SIDEWALK|  true|   false|1412|      14|  35|           21|     18|  1152037.0|  1920384.0|2015|     null|41.937405| -87.71665|(41.937405765, -8...|\n",
            "|10224741|  HY411610|2015-09-05 13:00:00| 0000X N LARAMIE AVE|0560|           ASSAULT|              SIMPLE|           APARTMENT| false|    true|1522|      15|  28|           25|    08A|  1141706.0|  1900086.0|2015|     null|41.881905| -87.75512|(41.881903443, -8...|\n",
            "|10224742|  HY411435|2015-09-05 10:55:00| 082XX S LOOMIS BLVD|0610|          BURGLARY|      FORCIBLE ENTRY|           RESIDENCE| false|   false| 614|       6|  21|           71|     05|  1168430.0|  1850165.0|2015|     null|41.744377| -87.65843|(41.744378879, -8...|\n",
            "|10224743|  HY411629|2015-09-04 18:00:00|021XX W CHURCHILL ST|0620|          BURGLARY|      UNLAWFUL ENTRY|    RESIDENCE-GARAGE| false|   false|1434|      14|  32|           24|     05|  1161628.0|  1912157.0|2015|     null|41.914635| -87.68163|(41.914635603, -8...|\n",
            "|10224744|  HY411605|2015-09-05 13:00:00|   025XX W CERMAK RD|0860|             THEFT|        RETAIL THEFT|  GROCERY FOOD STORE|  true|   false|1034|      10|  25|           31|     06|  1159734.0|  1889313.0|2015|     null| 41.85199| -87.68922|(41.851988885, -8...|\n",
            "|10224745|  HY411654|2015-09-05 11:30:00|031XX W WASHINGTO...|0320|           ROBBERY|STRONGARM - NO WE...|              STREET| false|    true|1222|      12|  27|           27|     03|  1155536.0|  1900515.0|2015|     null|41.882812| -87.70432|(41.88281374, -87...|\n",
            "|11645836|  JC212333|2016-05-01 00:25:00| 055XX S ROCKWELL ST|1153|DECEPTIVE PRACTICE|FINANCIAL IDENTIT...|       Not Available| false|   false| 824|       8|  15|           63|     11|       null|       null|2016|     null|     null|      null|       Not Available|\n",
            "|10224746|  HY411662|2015-09-05 14:00:00|  071XX S PULASKI RD|0820|             THEFT|      $500 AND UNDER|PARKING LOT/GARAG...| false|   false| 833|       8|  13|           65|     06|  1150938.0|  1857056.0|2015|     null| 41.76365| -87.72234|(41.763647552, -8...|\n",
            "|10224749|  HY411626|2015-09-05 11:00:00|052XX N MILWAUKEE...|0460|           BATTERY|              SIMPLE|  SMALL RETAIL STORE| false|   false|1623|      16|  45|           11|    08B|  1137969.0|  1934340.0|2015|     null|41.975967| -87.76801|(41.975968415, -8...|\n",
            "|10224750|  HY411632|2015-09-05 03:00:00|    0000X W 103RD ST|2820|     OTHER OFFENSE|    TELEPHONE THREAT|           APARTMENT| false|    true| 512|       5|  34|           49|     26|  1177871.0|  1836676.0|2015|     null|41.707153|-87.624245|(41.707154919, -8...|\n",
            "|10224751|  HY411566|2015-09-05 12:50:00|     013XX E 47TH ST|0486|           BATTERY|DOMESTIC BATTERY ...|              STREET| false|    true| 222|       2|   4|           39|    08B|  1185907.0|  1874105.0|2015|     null|41.809677|-87.593636|(41.809678314, -8...|\n",
            "|10224752|  HY411601|2015-09-03 13:00:00| 020XX W SCHILLER ST|0810|             THEFT|           OVER $500|              STREET| false|   false|1424|      14|   1|           24|     06|  1162574.0|  1909428.0|2015|     null|41.907127| -87.67823|(41.907127255, -8...|\n",
            "|10224753|  HY411489|2015-09-05 11:45:00|  080XX S JUSTINE ST|0497|           BATTERY|AGGRAVATED DOMEST...|           APARTMENT| false|   false| 612|       6|  21|           71|    04B|  1167400.0|  1851512.0|2015|     null|41.748096| -87.66216|(41.748097343, -8...|\n",
            "|10224754|  HY411656|2015-09-05 13:30:00|007XX N LEAMINGTO...|1320|   CRIMINAL DAMAGE|          TO VEHICLE|              STREET| false|   false|1531|      15|  28|           25|     14|  1141889.0|  1904448.0|2015|     null| 41.89387| -87.75434|(41.893869916, -8...|\n",
            "|10224756|  HY410094|2015-07-08 00:00:00|103XX S TORRENCE AVE|0620|          BURGLARY|      UNLAWFUL ENTRY|               OTHER| false|   false| 434|       4|  10|           51|     05|  1195508.0|  1836950.0|2015|     null| 41.70749| -87.55965|(41.707490122, -8...|\n",
            "|10224757|  HY411388|2015-09-05 09:55:00|  088XX S PAULINA ST|0610|          BURGLARY|      FORCIBLE ENTRY|           RESIDENCE|  true|   false|2221|      22|  21|           71|     05|  1166554.0|  1846067.0|2015|     null|41.733173| -87.66542|(41.733173536, -8...|\n",
            "|10224758|  HY411568|2015-09-05 12:35:00|    059XX W GRACE ST|0486|           BATTERY|DOMESTIC BATTERY ...|              STREET| false|    true|1633|      16|  38|           15|    08B|  1136014.0|  1924656.0|2015|     null| 41.94943| -87.77544|(41.949429769, -8...|\n",
            "+--------+----------+-------------------+--------------------+----+------------------+--------------------+--------------------+------+--------+----+--------+----+-------------+-------+-----------+-----------+----+---------+---------+----------+--------------------+\n",
            "only showing top 20 rows\n",
            "\n"
          ]
        }
      ]
    },
    {
      "cell_type": "markdown",
      "source": [
        "Filtering the data for last ten years."
      ],
      "metadata": {
        "id": "_iB6JT0cQxwB"
      }
    },
    {
      "cell_type": "code",
      "execution_count": 13,
      "metadata": {
        "id": "EO5G1Rv1cvKi",
        "colab": {
          "base_uri": "https://localhost:8080/"
        },
        "outputId": "e4fdd687-11a2-4ce1-ca46-da703435662f"
      },
      "outputs": [
        {
          "output_type": "stream",
          "name": "stdout",
          "text": [
            "+--------+----------+-------------------+--------------------+----+------------------+--------------------+--------------------+------+--------+----+--------+----+-------------+-------+-----------+-----------+----+---------+---------+----------+--------------------+\n",
            "|      ID|CaseNumber|               Date|               Block|IUCR|       PrimaryType|         Description| LocationDescription|Arrest|Domestic|Beat|District|Ward|CommunityArea|FBICode|XCoordinate|YCoordinate|Year|UpdatedOn| Latitude| Longitude|            Location|\n",
            "+--------+----------+-------------------+--------------------+----+------------------+--------------------+--------------------+------+--------+----+--------+----+-------------+-------+-----------+-----------+----+---------+---------+----------+--------------------+\n",
            "|10224738|  HY411648|2015-09-05 13:30:00|     043XX S WOOD ST|0486|           BATTERY|DOMESTIC BATTERY ...|           RESIDENCE| false|    true| 924|       9|  12|           61|    08B|  1165074.0|  1875917.0|2015|     null|41.815117|    -87.67|(41.815117282, -8...|\n",
            "|10224739|  HY411615|2015-09-04 11:30:00| 008XX N CENTRAL AVE|0870|             THEFT|      POCKET-PICKING|             CTA BUS| false|   false|1511|      15|  29|           25|     06|  1138875.0|  1904869.0|2015|     null| 41.89508|  -87.7654|(41.895080471, -8...|\n",
            "|11646166|  JC213529|2018-09-01 00:01:00|082XX S INGLESIDE...|0810|             THEFT|           OVER $500|           RESIDENCE| false|    true| 631|       6|   8|           44|     06|       null|       null|2018|     null|     null|      null|       Not Available|\n",
            "|10224740|  HY411595|2015-09-05 12:45:00|   035XX W BARRY AVE|2023|         NARCOTICS|POSS: HEROIN(BRN/...|            SIDEWALK|  true|   false|1412|      14|  35|           21|     18|  1152037.0|  1920384.0|2015|     null|41.937405| -87.71665|(41.937405765, -8...|\n",
            "|10224741|  HY411610|2015-09-05 13:00:00| 0000X N LARAMIE AVE|0560|           ASSAULT|              SIMPLE|           APARTMENT| false|    true|1522|      15|  28|           25|    08A|  1141706.0|  1900086.0|2015|     null|41.881905| -87.75512|(41.881903443, -8...|\n",
            "|10224742|  HY411435|2015-09-05 10:55:00| 082XX S LOOMIS BLVD|0610|          BURGLARY|      FORCIBLE ENTRY|           RESIDENCE| false|   false| 614|       6|  21|           71|     05|  1168430.0|  1850165.0|2015|     null|41.744377| -87.65843|(41.744378879, -8...|\n",
            "|10224743|  HY411629|2015-09-04 18:00:00|021XX W CHURCHILL ST|0620|          BURGLARY|      UNLAWFUL ENTRY|    RESIDENCE-GARAGE| false|   false|1434|      14|  32|           24|     05|  1161628.0|  1912157.0|2015|     null|41.914635| -87.68163|(41.914635603, -8...|\n",
            "|10224744|  HY411605|2015-09-05 13:00:00|   025XX W CERMAK RD|0860|             THEFT|        RETAIL THEFT|  GROCERY FOOD STORE|  true|   false|1034|      10|  25|           31|     06|  1159734.0|  1889313.0|2015|     null| 41.85199| -87.68922|(41.851988885, -8...|\n",
            "|10224745|  HY411654|2015-09-05 11:30:00|031XX W WASHINGTO...|0320|           ROBBERY|STRONGARM - NO WE...|              STREET| false|    true|1222|      12|  27|           27|     03|  1155536.0|  1900515.0|2015|     null|41.882812| -87.70432|(41.88281374, -87...|\n",
            "|11645836|  JC212333|2016-05-01 00:25:00| 055XX S ROCKWELL ST|1153|DECEPTIVE PRACTICE|FINANCIAL IDENTIT...|       Not Available| false|   false| 824|       8|  15|           63|     11|       null|       null|2016|     null|     null|      null|       Not Available|\n",
            "|10224746|  HY411662|2015-09-05 14:00:00|  071XX S PULASKI RD|0820|             THEFT|      $500 AND UNDER|PARKING LOT/GARAG...| false|   false| 833|       8|  13|           65|     06|  1150938.0|  1857056.0|2015|     null| 41.76365| -87.72234|(41.763647552, -8...|\n",
            "|10224749|  HY411626|2015-09-05 11:00:00|052XX N MILWAUKEE...|0460|           BATTERY|              SIMPLE|  SMALL RETAIL STORE| false|   false|1623|      16|  45|           11|    08B|  1137969.0|  1934340.0|2015|     null|41.975967| -87.76801|(41.975968415, -8...|\n",
            "|10224750|  HY411632|2015-09-05 03:00:00|    0000X W 103RD ST|2820|     OTHER OFFENSE|    TELEPHONE THREAT|           APARTMENT| false|    true| 512|       5|  34|           49|     26|  1177871.0|  1836676.0|2015|     null|41.707153|-87.624245|(41.707154919, -8...|\n",
            "|10224751|  HY411566|2015-09-05 12:50:00|     013XX E 47TH ST|0486|           BATTERY|DOMESTIC BATTERY ...|              STREET| false|    true| 222|       2|   4|           39|    08B|  1185907.0|  1874105.0|2015|     null|41.809677|-87.593636|(41.809678314, -8...|\n",
            "|10224752|  HY411601|2015-09-03 13:00:00| 020XX W SCHILLER ST|0810|             THEFT|           OVER $500|              STREET| false|   false|1424|      14|   1|           24|     06|  1162574.0|  1909428.0|2015|     null|41.907127| -87.67823|(41.907127255, -8...|\n",
            "|10224753|  HY411489|2015-09-05 11:45:00|  080XX S JUSTINE ST|0497|           BATTERY|AGGRAVATED DOMEST...|           APARTMENT| false|   false| 612|       6|  21|           71|    04B|  1167400.0|  1851512.0|2015|     null|41.748096| -87.66216|(41.748097343, -8...|\n",
            "|10224754|  HY411656|2015-09-05 13:30:00|007XX N LEAMINGTO...|1320|   CRIMINAL DAMAGE|          TO VEHICLE|              STREET| false|   false|1531|      15|  28|           25|     14|  1141889.0|  1904448.0|2015|     null| 41.89387| -87.75434|(41.893869916, -8...|\n",
            "|10224756|  HY410094|2015-07-08 00:00:00|103XX S TORRENCE AVE|0620|          BURGLARY|      UNLAWFUL ENTRY|               OTHER| false|   false| 434|       4|  10|           51|     05|  1195508.0|  1836950.0|2015|     null| 41.70749| -87.55965|(41.707490122, -8...|\n",
            "|10224757|  HY411388|2015-09-05 09:55:00|  088XX S PAULINA ST|0610|          BURGLARY|      FORCIBLE ENTRY|           RESIDENCE|  true|   false|2221|      22|  21|           71|     05|  1166554.0|  1846067.0|2015|     null|41.733173| -87.66542|(41.733173536, -8...|\n",
            "|10224758|  HY411568|2015-09-05 12:35:00|    059XX W GRACE ST|0486|           BATTERY|DOMESTIC BATTERY ...|              STREET| false|    true|1633|      16|  38|           15|    08B|  1136014.0|  1924656.0|2015|     null| 41.94943| -87.77544|(41.949429769, -8...|\n",
            "+--------+----------+-------------------+--------------------+----+------------------+--------------------+--------------------+------+--------+----+--------+----+-------------+-------+-----------+-----------+----+---------+---------+----------+--------------------+\n",
            "only showing top 20 rows\n",
            "\n"
          ]
        }
      ],
      "source": [
        "from pyspark.sql.functions import col\n",
        "df = df.where(col(\"Year\") >= 2013)\n",
        "df.show()\n"
      ]
    },
    {
      "cell_type": "markdown",
      "source": [
        "Remove all the records with the following crime types:\n",
        "* 'NON-CRIMINAL (SUBJECT SPECIFIED)'\n",
        "* 'OTHER OFFENSE'\n",
        "* 'STALKING'\n",
        "* 'NON - CRIMINAL'\n",
        "* 'ARSON"
      ],
      "metadata": {
        "id": "lPUMhfW5Z0Fq"
      }
    },
    {
      "cell_type": "code",
      "execution_count": 14,
      "metadata": {
        "id": "0zqLyXYccvOM"
      },
      "outputs": [],
      "source": [
        "# # Remove all the records with the following crime types\n",
        "# from pyspark.sql.functions import col\n",
        "\n",
        "# df = df.where(~col(\"PrimaryType\").isin(\n",
        "#     \"NON-CRIMINAL (SUBJECT SPECIFIED)\",\n",
        "#     \"OTHER OFFENSE\",\n",
        "#     \"STALKING\",\n",
        "#     \"NON - CRIMINAL\",\n",
        "#     \"ARSON\"\n",
        "# ))\n"
      ]
    },
    {
      "cell_type": "code",
      "source": [
        "# Remove all the records with the following crime types\n",
        "df = df.filter(col(\"PrimaryType\").isin([\n",
        "    \"NON-CRIMINAL (SUBJECT SPECIFIED)\",\n",
        "    \"OTHER OFFENSE\",\n",
        "    \"STALKING\",\n",
        "    \"NON - CRIMINAL\",\n",
        "    \"ARSON\"\n",
        "]) == False)"
      ],
      "metadata": {
        "id": "GWN6wA0rkUGK"
      },
      "execution_count": 15,
      "outputs": []
    },
    {
      "cell_type": "markdown",
      "source": [
        "Merge the similar crime types.\n",
        "* For example, change 'Primary Type' of cases that have 'Primary Type' as ‘SEX OFFENSE’ or ‘PROSTITUTION’ such that they should have the same 'Primary Type'."
      ],
      "metadata": {
        "id": "y05TIAFjaS7J"
      }
    },
    {
      "cell_type": "code",
      "execution_count": 16,
      "metadata": {
        "id": "S5dUuj0ZT-xY",
        "colab": {
          "base_uri": "https://localhost:8080/"
        },
        "outputId": "9333930a-3d91-4eb5-9308-3b7e9e6b72cb"
      },
      "outputs": [
        {
          "output_type": "stream",
          "name": "stdout",
          "text": [
            "+--------+----------+-------------------+--------------------+----+------------------+--------------------+--------------------+------+--------+----+--------+----+-------------+-------+-----------+-----------+----+---------+---------+----------+--------------------+\n",
            "|      ID|CaseNumber|               Date|               Block|IUCR|       PrimaryType|         Description| LocationDescription|Arrest|Domestic|Beat|District|Ward|CommunityArea|FBICode|XCoordinate|YCoordinate|Year|UpdatedOn| Latitude| Longitude|            Location|\n",
            "+--------+----------+-------------------+--------------------+----+------------------+--------------------+--------------------+------+--------+----+--------+----+-------------+-------+-----------+-----------+----+---------+---------+----------+--------------------+\n",
            "|10224738|  HY411648|2015-09-05 13:30:00|     043XX S WOOD ST|0486|           BATTERY|DOMESTIC BATTERY ...|           RESIDENCE| false|    true| 924|       9|  12|           61|    08B|  1165074.0|  1875917.0|2015|     null|41.815117|    -87.67|(41.815117282, -8...|\n",
            "|10224739|  HY411615|2015-09-04 11:30:00| 008XX N CENTRAL AVE|0870|             THEFT|      POCKET-PICKING|             CTA BUS| false|   false|1511|      15|  29|           25|     06|  1138875.0|  1904869.0|2015|     null| 41.89508|  -87.7654|(41.895080471, -8...|\n",
            "|11646166|  JC213529|2018-09-01 00:01:00|082XX S INGLESIDE...|0810|             THEFT|           OVER $500|           RESIDENCE| false|    true| 631|       6|   8|           44|     06|       null|       null|2018|     null|     null|      null|       Not Available|\n",
            "|10224740|  HY411595|2015-09-05 12:45:00|   035XX W BARRY AVE|2023|         NARCOTICS|POSS: HEROIN(BRN/...|            SIDEWALK|  true|   false|1412|      14|  35|           21|     18|  1152037.0|  1920384.0|2015|     null|41.937405| -87.71665|(41.937405765, -8...|\n",
            "|10224741|  HY411610|2015-09-05 13:00:00| 0000X N LARAMIE AVE|0560|           ASSAULT|              SIMPLE|           APARTMENT| false|    true|1522|      15|  28|           25|    08A|  1141706.0|  1900086.0|2015|     null|41.881905| -87.75512|(41.881903443, -8...|\n",
            "|10224742|  HY411435|2015-09-05 10:55:00| 082XX S LOOMIS BLVD|0610|          BURGLARY|      FORCIBLE ENTRY|           RESIDENCE| false|   false| 614|       6|  21|           71|     05|  1168430.0|  1850165.0|2015|     null|41.744377| -87.65843|(41.744378879, -8...|\n",
            "|10224743|  HY411629|2015-09-04 18:00:00|021XX W CHURCHILL ST|0620|          BURGLARY|      UNLAWFUL ENTRY|    RESIDENCE-GARAGE| false|   false|1434|      14|  32|           24|     05|  1161628.0|  1912157.0|2015|     null|41.914635| -87.68163|(41.914635603, -8...|\n",
            "|10224744|  HY411605|2015-09-05 13:00:00|   025XX W CERMAK RD|0860|             THEFT|        RETAIL THEFT|  GROCERY FOOD STORE|  true|   false|1034|      10|  25|           31|     06|  1159734.0|  1889313.0|2015|     null| 41.85199| -87.68922|(41.851988885, -8...|\n",
            "|10224745|  HY411654|2015-09-05 11:30:00|031XX W WASHINGTO...|0320|           ROBBERY|STRONGARM - NO WE...|              STREET| false|    true|1222|      12|  27|           27|     03|  1155536.0|  1900515.0|2015|     null|41.882812| -87.70432|(41.88281374, -87...|\n",
            "|11645836|  JC212333|2016-05-01 00:25:00| 055XX S ROCKWELL ST|1153|DECEPTIVE PRACTICE|FINANCIAL IDENTIT...|       Not Available| false|   false| 824|       8|  15|           63|     11|       null|       null|2016|     null|     null|      null|       Not Available|\n",
            "|10224746|  HY411662|2015-09-05 14:00:00|  071XX S PULASKI RD|0820|             THEFT|      $500 AND UNDER|PARKING LOT/GARAG...| false|   false| 833|       8|  13|           65|     06|  1150938.0|  1857056.0|2015|     null| 41.76365| -87.72234|(41.763647552, -8...|\n",
            "|10224749|  HY411626|2015-09-05 11:00:00|052XX N MILWAUKEE...|0460|           BATTERY|              SIMPLE|  SMALL RETAIL STORE| false|   false|1623|      16|  45|           11|    08B|  1137969.0|  1934340.0|2015|     null|41.975967| -87.76801|(41.975968415, -8...|\n",
            "|10224751|  HY411566|2015-09-05 12:50:00|     013XX E 47TH ST|0486|           BATTERY|DOMESTIC BATTERY ...|              STREET| false|    true| 222|       2|   4|           39|    08B|  1185907.0|  1874105.0|2015|     null|41.809677|-87.593636|(41.809678314, -8...|\n",
            "|10224752|  HY411601|2015-09-03 13:00:00| 020XX W SCHILLER ST|0810|             THEFT|           OVER $500|              STREET| false|   false|1424|      14|   1|           24|     06|  1162574.0|  1909428.0|2015|     null|41.907127| -87.67823|(41.907127255, -8...|\n",
            "|10224753|  HY411489|2015-09-05 11:45:00|  080XX S JUSTINE ST|0497|           BATTERY|AGGRAVATED DOMEST...|           APARTMENT| false|   false| 612|       6|  21|           71|    04B|  1167400.0|  1851512.0|2015|     null|41.748096| -87.66216|(41.748097343, -8...|\n",
            "|10224754|  HY411656|2015-09-05 13:30:00|007XX N LEAMINGTO...|1320|   CRIMINAL DAMAGE|          TO VEHICLE|              STREET| false|   false|1531|      15|  28|           25|     14|  1141889.0|  1904448.0|2015|     null| 41.89387| -87.75434|(41.893869916, -8...|\n",
            "|10224756|  HY410094|2015-07-08 00:00:00|103XX S TORRENCE AVE|0620|          BURGLARY|      UNLAWFUL ENTRY|               OTHER| false|   false| 434|       4|  10|           51|     05|  1195508.0|  1836950.0|2015|     null| 41.70749| -87.55965|(41.707490122, -8...|\n",
            "|10224757|  HY411388|2015-09-05 09:55:00|  088XX S PAULINA ST|0610|          BURGLARY|      FORCIBLE ENTRY|           RESIDENCE|  true|   false|2221|      22|  21|           71|     05|  1166554.0|  1846067.0|2015|     null|41.733173| -87.66542|(41.733173536, -8...|\n",
            "|10224758|  HY411568|2015-09-05 12:35:00|    059XX W GRACE ST|0486|           BATTERY|DOMESTIC BATTERY ...|              STREET| false|    true|1633|      16|  38|           15|    08B|  1136014.0|  1924656.0|2015|     null| 41.94943| -87.77544|(41.949429769, -8...|\n",
            "|10224759|  HY411581|2015-09-04 22:30:00|    100XX S AVENUE L|1320|   CRIMINAL DAMAGE|          TO VEHICLE|              STREET| false|   false| 432|       4|  10|           52|     14|  1201814.0|  1839027.0|2015|     null| 41.71303| -87.53649|(41.713031786, -8...|\n",
            "+--------+----------+-------------------+--------------------+----+------------------+--------------------+--------------------+------+--------+----+--------+----+-------------+-------+-----------+-----------+----+---------+---------+----------+--------------------+\n",
            "only showing top 20 rows\n",
            "\n"
          ]
        }
      ],
      "source": [
        "from pyspark.sql.functions import when, col\n",
        "\n",
        "df = df.select(\n",
        "    *[when(col(\"PrimaryType\").isin([\"SEX OFFENSE\", \"PROSTITUTION\"]),\n",
        "           \"SEX OFFENSE/PROSTITUTION\")\n",
        "      .otherwise(col(name)).alias(name)\n",
        "      for name in df.columns]\n",
        ")\n",
        "df.show()\n"
      ]
    },
    {
      "cell_type": "markdown",
      "source": [
        "Analyze the data and present results:\n",
        "* Show year-wise trend of the crime for last ten years.\n",
        "* Find out at which hour of the day crime is highest.\n",
        "* Find top ten crimes and present them as a bar chart."
      ],
      "metadata": {
        "id": "JMCloPAtbXsX"
      }
    },
    {
      "cell_type": "code",
      "execution_count": 17,
      "metadata": {
        "id": "D5f-g705d9fn",
        "colab": {
          "base_uri": "https://localhost:8080/"
        },
        "outputId": "666ded7c-7825-442f-a7eb-331ed3b12bea"
      },
      "outputs": [
        {
          "output_type": "stream",
          "name": "stdout",
          "text": [
            "+----+-----+\n",
            "|Year|count|\n",
            "+----+-----+\n",
            "|2013|  195|\n",
            "|2014|  447|\n",
            "|2015|90219|\n",
            "|2016|  203|\n",
            "|2017|  689|\n",
            "|2018|  610|\n",
            "|2019|  717|\n",
            "|2020|  330|\n",
            "|2021|   14|\n",
            "|2022|   98|\n",
            "+----+-----+\n",
            "\n"
          ]
        }
      ],
      "source": [
        "# Show year-wise trend of the crime for last ten years.\n",
        "crime_orderwise = df.groupBy(\"Year\").count().orderBy(\"Year\").limit(10)\n",
        "crime_orderwise.show()"
      ]
    },
    {
      "cell_type": "code",
      "source": [
        "import seaborn as sns\n",
        "import matplotlib.pyplot as plt\n",
        "crime_orderwise_df = crime_orderwise.toPandas()\n",
        "sns.barplot(x=\"Year\", y=\"count\", data=crime_orderwise_df)\n",
        "plt.xticks(rotation=60)\n",
        "plt.xlabel(\"Year\")\n",
        "plt.ylabel(\"Total Count\")\n",
        "plt.title(\"Number of Crimes per Year\")\n",
        "plt.show()\n"
      ],
      "metadata": {
        "colab": {
          "base_uri": "https://localhost:8080/",
          "height": 495
        },
        "id": "3Z6YRA2Ydu2R",
        "outputId": "e779a9b7-cc17-42a0-b22b-599094b64ad6"
      },
      "execution_count": 18,
      "outputs": [
        {
          "output_type": "display_data",
          "data": {
            "text/plain": [
              "<Figure size 640x480 with 1 Axes>"
            ],
            "image/png": "[encoded data removed]"
          },
          "metadata": {}
        }
      ]
    },
    {
      "cell_type": "code",
      "source": [
        "from pyspark.sql.functions import hour, desc\n",
        "# Find out at which hour of the day crime is highest.\n",
        "hour_orderwise = df.groupBy(hour(col(\"Date\")).alias(\"hour\")).count().orderBy(desc(\"count\"))\n",
        "hour_orderwise.show(1)\n"
      ],
      "metadata": {
        "colab": {
          "base_uri": "https://localhost:8080/"
        },
        "id": "2wfOARxgdvD_",
        "outputId": "466beee9-8648-4b94-8ca9-fe81f9c44701"
      },
      "execution_count": 19,
      "outputs": [
        {
          "output_type": "stream",
          "name": "stdout",
          "text": [
            "+----+-----+\n",
            "|hour|count|\n",
            "+----+-----+\n",
            "|  18| 5437|\n",
            "+----+-----+\n",
            "only showing top 1 row\n",
            "\n"
          ]
        }
      ]
    },
    {
      "cell_type": "code",
      "source": [
        "# Convert the Spark DataFrame to a Pandas DataFrame\n",
        "hour_orderwise_df = hour_orderwise.toPandas()\n",
        "\n",
        "# Create a bar plot of the crime counts by hour\n",
        "fig, ax = plt.subplots(figsize=(8,6))\n",
        "ax.bar(hour_orderwise_df['hour'], hour_orderwise_df['count'], width=0.8)\n",
        "ax.set_xlabel('Hour of the day')\n",
        "ax.set_ylabel('Crime count')\n",
        "ax.set_title('Hourly Crime Distribution')\n",
        "plt.show()\n",
        "\n"
      ],
      "metadata": {
        "colab": {
          "base_uri": "https://localhost:8080/",
          "height": 564
        },
        "id": "bhNEX6fDdvTY",
        "outputId": "11b6f43f-f05c-458f-c404-f8f6b7071995"
      },
      "execution_count": 21,
      "outputs": [
        {
          "output_type": "display_data",
          "data": {
            "text/plain": [
              "<Figure size 800x600 with 1 Axes>"
            ],
            "image/png": "[encoded data removed]"
          },
          "metadata": {}
        }
      ]
    },
    {
      "cell_type": "code",
      "source": [
        "from pyspark.sql.functions import desc\n",
        "top10_crimes = df.groupBy(\"PrimaryType\").count().orderBy(desc(\"count\")).limit(10)\n",
        "top10_crimes_df = top10_crimes.toPandas()\n",
        "top10_crimes_df"
      ],
      "metadata": {
        "colab": {
          "base_uri": "https://localhost:8080/",
          "height": 363
        },
        "id": "U2LLKW1QdveN",
        "outputId": "8e9fc36c-6bd6-441e-b067-1ad66e9b0397"
      },
      "execution_count": 22,
      "outputs": [
        {
          "output_type": "execute_result",
          "data": {
            "text/plain": [
              "           PrimaryType  count\n",
              "0                THEFT  22607\n",
              "1              BATTERY  18456\n",
              "2      CRIMINAL DAMAGE  11364\n",
              "3            NARCOTICS   7870\n",
              "4   DECEPTIVE PRACTICE   6574\n",
              "5              ASSAULT   6383\n",
              "6             BURGLARY   5439\n",
              "7              ROBBERY   3969\n",
              "8  MOTOR VEHICLE THEFT   3918\n",
              "9    CRIMINAL TRESPASS   2314"
            ],
            "text/html": [
              "\n",
              "  <div id=\"df-2ef99ef4-b24b-4322-9f79-92a9482e8f2a\">\n",
              "    <div class=\"colab-df-container\">\n",
              "      <div>\n",
              "<style scoped>\n",
              "    .dataframe tbody tr th:only-of-type {\n",
              "        vertical-align: middle;\n",
              "    }\n",
              "\n",
              "    .dataframe tbody tr th {\n",
              "        vertical-align: top;\n",
              "    }\n",
              "\n",
              "    .dataframe thead th {\n",
              "        text-align: right;\n",
              "    }\n",
              "</style>\n",
              "<table border=\"1\" class=\"dataframe\">\n",
              "  <thead>\n",
              "    <tr style=\"text-align: right;\">\n",
              "      <th></th>\n",
              "      <th>PrimaryType</th>\n",
              "      <th>count</th>\n",
              "    </tr>\n",
              "  </thead>\n",
              "  <tbody>\n",
              "    <tr>\n",
              "      <th>0</th>\n",
              "      <td>THEFT</td>\n",
              "      <td>22607</td>\n",
              "    </tr>\n",
              "    <tr>\n",
              "      <th>1</th>\n",
              "      <td>BATTERY</td>\n",
              "      <td>18456</td>\n",
              "    </tr>\n",
              "    <tr>\n",
              "      <th>2</th>\n",
              "      <td>CRIMINAL DAMAGE</td>\n",
              "      <td>11364</td>\n",
              "    </tr>\n",
              "    <tr>\n",
              "      <th>3</th>\n",
              "      <td>NARCOTICS</td>\n",
              "      <td>7870</td>\n",
              "    </tr>\n",
              "    <tr>\n",
              "      <th>4</th>\n",
              "      <td>DECEPTIVE PRACTICE</td>\n",
              "      <td>6574</td>\n",
              "    </tr>\n",
              "    <tr>\n",
              "      <th>5</th>\n",
              "      <td>ASSAULT</td>\n",
              "      <td>6383</td>\n",
              "    </tr>\n",
              "    <tr>\n",
              "      <th>6</th>\n",
              "      <td>BURGLARY</td>\n",
              "      <td>5439</td>\n",
              "    </tr>\n",
              "    <tr>\n",
              "      <th>7</th>\n",
              "      <td>ROBBERY</td>\n",
              "      <td>3969</td>\n",
              "    </tr>\n",
              "    <tr>\n",
              "      <th>8</th>\n",
              "      <td>MOTOR VEHICLE THEFT</td>\n",
              "      <td>3918</td>\n",
              "    </tr>\n",
              "    <tr>\n",
              "      <th>9</th>\n",
              "      <td>CRIMINAL TRESPASS</td>\n",
              "      <td>2314</td>\n",
              "    </tr>\n",
              "  </tbody>\n",
              "</table>\n",
              "</div>\n",
              "      <button class=\"colab-df-convert\" onclick=\"convertToInteractive('df-2ef99ef4-b24b-4322-9f79-92a9482e8f2a')\"\n",
              "              title=\"Convert this dataframe to an interactive table.\"\n",
              "              style=\"display:none;\">\n",
              "        \n",
              "  <svg xmlns=\"http://www.w3.org/2000/svg\" height=\"24px\"viewBox=\"0 0 24 24\"\n",
              "       width=\"24px\">\n",
              "    <path d=\"M0 0h24v24H0V0z\" fill=\"none\"/>\n",
              "    <path d=\"M18.56 5.44l.94 2.06.94-2.06 2.06-.94-2.06-.94-.94-2.06-.94 2.06-2.06.94zm-11 1L8.5 8.5l.94-2.06 2.06-.94-2.06-.94L8.5 2.5l-.94 2.06-2.06.94zm10 10l.94 2.06.94-2.06 2.06-.94-2.06-.94-.94-2.06-.94 2.06-2.06.94z\"/><path d=\"M17.41 7.96l-1.37-1.37c-.4-.4-.92-.59-1.43-.59-.52 0-1.04.2-1.43.59L10.3 9.45l-7.72 7.72c-.78.78-.78 2.05 0 2.83L4 21.41c.39.39.9.59 1.41.59.51 0 1.02-.2 1.41-.59l7.78-7.78 2.81-2.81c.8-.78.8-2.07 0-2.86zM5.41 20L4 18.59l7.72-7.72 1.47 1.35L5.41 20z\"/>\n",
              "  </svg>\n",
              "      </button>\n",
              "      \n",
              "  <style>\n",
              "    .colab-df-container {\n",
              "      display:flex;\n",
              "      flex-wrap:wrap;\n",
              "      gap: 12px;\n",
              "    }\n",
              "\n",
              "    .colab-df-convert {\n",
              "      background-color: #E8F0FE;\n",
              "      border: none;\n",
              "      border-radius: 50%;\n",
              "      cursor: pointer;\n",
              "      display: none;\n",
              "      fill: #1967D2;\n",
              "      height: 32px;\n",
              "      padding: 0 0 0 0;\n",
              "      width: 32px;\n",
              "    }\n",
              "\n",
              "    .colab-df-convert:hover {\n",
              "      background-color: #E2EBFA;\n",
              "      box-shadow: 0px 1px 2px rgba(60, 64, 67, 0.3), 0px 1px 3px 1px rgba(60, 64, 67, 0.15);\n",
              "      fill: #174EA6;\n",
              "    }\n",
              "\n",
              "    [theme=dark] .colab-df-convert {\n",
              "      background-color: #3B4455;\n",
              "      fill: #D2E3FC;\n",
              "    }\n",
              "\n",
              "    [theme=dark] .colab-df-convert:hover {\n",
              "      background-color: #434B5C;\n",
              "      box-shadow: 0px 1px 3px 1px rgba(0, 0, 0, 0.15);\n",
              "      filter: drop-shadow(0px 1px 2px rgba(0, 0, 0, 0.3));\n",
              "      fill: #FFFFFF;\n",
              "    }\n",
              "  </style>\n",
              "\n",
              "      <script>\n",
              "        const buttonEl =\n",
              "          document.querySelector('#df-2ef99ef4-b24b-4322-9f79-92a9482e8f2a button.colab-df-convert');\n",
              "        buttonEl.style.display =\n",
              "          google.colab.kernel.accessAllowed ? 'block' : 'none';\n",
              "\n",
              "        async function convertToInteractive(key) {\n",
              "          const element = document.querySelector('#df-2ef99ef4-b24b-4322-9f79-92a9482e8f2a');\n",
              "          const dataTable =\n",
              "            await google.colab.kernel.invokeFunction('convertToInteractive',\n",
              "                                                     [key], {});\n",
              "          if (!dataTable) return;\n",
              "\n",
              "          const docLinkHtml = 'Like what you see? Visit the ' +\n",
              "            '<a target=\"_blank\" href=https://colab.research.google.com/notebooks/data_table.ipynb>data table notebook</a>'\n",
              "            + ' to learn more about interactive tables.';\n",
              "          element.innerHTML = '';\n",
              "          dataTable['output_type'] = 'display_data';\n",
              "          await google.colab.output.renderOutput(dataTable, element);\n",
              "          const docLink = document.createElement('div');\n",
              "          docLink.innerHTML = docLinkHtml;\n",
              "          element.appendChild(docLink);\n",
              "        }\n",
              "      </script>\n",
              "    </div>\n",
              "  </div>\n",
              "  "
            ]
          },
          "metadata": {},
          "execution_count": 22
        }
      ]
    },
    {
      "cell_type": "code",
      "execution_count": 23,
      "metadata": {
        "id": "QvWkz9Utd9jD",
        "colab": {
          "base_uri": "https://localhost:8080/",
          "height": 428
        },
        "outputId": "4c77c5f7-2551-4f2b-dc99-d8ca55d0be68"
      },
      "outputs": [
        {
          "output_type": "display_data",
          "data": {
            "text/plain": [
              "<Figure size 640x480 with 1 Axes>"
            ],
            "image/png": "[encoded data removed]"
          },
          "metadata": {}
        }
      ],
      "source": [
        "import matplotlib.pyplot as plt\n",
        "plt.pie(top10_crimes_df[\"count\"], labels=top10_crimes_df[\"PrimaryType\"], autopct=\"%1.1f%%\")\n",
        "plt.title(\"Top Ten Crimes\")\n",
        "plt.show()"
      ]
    },
    {
      "cell_type": "code",
      "source": [],
      "metadata": {
        "id": "saa8FT0MosGB"
      },
      "execution_count": null,
      "outputs": []
    }
  ],
  "metadata": {
    "colab": {
      "provenance": []
    },
    "kernelspec": {
      "display_name": "Python 3",
      "name": "python3"
    },
    "language_info": {
      "name": "python"
    }
  },
  "nbformat": 4,
  "nbformat_minor": 0
}